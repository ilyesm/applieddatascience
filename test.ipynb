{
 "cells": [
  {
   "cell_type": "code",
   "execution_count": 87,
   "metadata": {},
   "outputs": [
    {
     "name": "stdout",
     "output_type": "stream",
     "text": [
      "[*********************100%***********************]  507 of 507 completed\n",
      "\n",
      "4 Failed downloads:\n",
      "- BRKB: No data found, symbol may be delisted\n",
      "- BFB: No data found, symbol may be delisted\n",
      "- UBFUT: No data found, symbol may be delisted\n",
      "- XTSLA: No data found, symbol may be delisted\n"
     ]
    }
   ],
   "source": [
    "import pandas as pd\n",
    "import yfinance as yf\n",
    "\n",
    "data = pd.read_csv('Holdings.csv')\n",
    "datalist = data['Ticker'].tolist()\n",
    "\n",
    "pricing = yf.download(\n",
    "        tickers = datalist,\n",
    "        period = \"10y\",\n",
    "        interval = \"1d\",\n",
    "        group_by = 'ticker',\n",
    "        auto_adjust = True,\n",
    "        prepost = True,\n",
    "        threads = True,\n",
    "    )\n",
    "\n",
    "pricing.to_csv('pricing.csv')\n",
    "pricing.to_excel('pricing.xlsx')"
   ]
  },
  {
   "cell_type": "code",
   "execution_count": null,
   "metadata": {},
   "outputs": [],
   "source": []
  }
 ],
 "metadata": {
  "interpreter": {
   "hash": "31f2aee4e71d21fbe5cf8b01ff0e069b9275f58929596ceb00d14d90e3e16cd6"
  },
  "kernelspec": {
   "display_name": "Python 3.8.9 64-bit",
   "language": "python",
   "name": "python3"
  },
  "language_info": {
   "codemirror_mode": {
    "name": "ipython",
    "version": 3
   },
   "file_extension": ".py",
   "mimetype": "text/x-python",
   "name": "python",
   "nbconvert_exporter": "python",
   "pygments_lexer": "ipython3",
   "version": "3.8.9"
  },
  "orig_nbformat": 4
 },
 "nbformat": 4,
 "nbformat_minor": 2
}
